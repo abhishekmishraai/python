{
  "nbformat": 4,
  "nbformat_minor": 0,
  "metadata": {
    "colab": {
      "provenance": [],
      "authorship_tag": "ABX9TyOjliMrBm7MWZfdysr3SZkd",
      "include_colab_link": true
    },
    "kernelspec": {
      "name": "python3",
      "display_name": "Python 3"
    },
    "language_info": {
      "name": "python"
    }
  },
  "cells": [
    {
      "cell_type": "markdown",
      "metadata": {
        "id": "view-in-github",
        "colab_type": "text"
      },
      "source": [
        "<a href=\"https://colab.research.google.com/github/abhishekmishraai/python/blob/main/Day%201.ipynb\" target=\"_parent\"><img src=\"https://colab.research.google.com/assets/colab-badge.svg\" alt=\"Open In Colab\"/></a>"
      ]
    },
    {
      "cell_type": "markdown",
      "source": [
        "## Author  \n",
        "**Abhishek Mishra**\n",
        "\n",
        "* 🔗 LinkedIn - https://www.linkedin.com/in/abhishekmishraai/\n",
        "\n",
        "* 📺 YouTube - https://www.youtube.com/@abhishekmishraai\n",
        "\n",
        "* Github - https://github.com/abhishekmishraai"
      ],
      "metadata": {
        "id": "imusP3T8wm9s"
      }
    },
    {
      "cell_type": "markdown",
      "source": [
        "## Data types in python\n",
        "\n",
        "Python is a dynamically typed language, which means you don't need to declare the data type of a variable when you create it; Python will determine the data type dynamically at runtime. However, Python has several built-in data types that you can use to store and manipulate different kinds of data. Here are some of the most common data types in Python:\n",
        "\n",
        "* ### Numeric  - Numeric variables take values which are numbers like 9, 3.14, 0, Inf\n",
        "\n",
        "\n",
        "* ### String   - 'hello',\"hello\"\n",
        "\n",
        "\n",
        "* ### Boolean  - True, False\n",
        "\n",
        "\n",
        "* ### Datetime  - 2023-08-05 08:21:04"
      ],
      "metadata": {
        "id": "8ds-9MNqw7k8"
      }
    },
    {
      "cell_type": "code",
      "execution_count": 1,
      "metadata": {
        "colab": {
          "base_uri": "https://localhost:8080/"
        },
        "id": "xpzR4p7WwkFG",
        "outputId": "4aca1ab2-b0f7-4851-b7ca-4362a772474f"
      },
      "outputs": [
        {
          "output_type": "execute_result",
          "data": {
            "text/plain": [
              "int"
            ]
          },
          "metadata": {},
          "execution_count": 1
        }
      ],
      "source": [
        "a = 10\n",
        "type(a)"
      ]
    },
    {
      "cell_type": "code",
      "source": [
        "a = 10012\n",
        "type(a)"
      ],
      "metadata": {
        "colab": {
          "base_uri": "https://localhost:8080/"
        },
        "id": "dAZgJdkvyNh5",
        "outputId": "e3b0bffe-cbb4-4743-ac87-5aaecd89601d"
      },
      "execution_count": 2,
      "outputs": [
        {
          "output_type": "execute_result",
          "data": {
            "text/plain": [
              "int"
            ]
          },
          "metadata": {},
          "execution_count": 2
        }
      ]
    },
    {
      "cell_type": "code",
      "source": [
        "a = 10.5\n",
        "type(a)"
      ],
      "metadata": {
        "colab": {
          "base_uri": "https://localhost:8080/"
        },
        "id": "8xP1byK5yX1I",
        "outputId": "5b23cb0e-61df-415e-ff93-e891d79481b3"
      },
      "execution_count": 3,
      "outputs": [
        {
          "output_type": "execute_result",
          "data": {
            "text/plain": [
              "float"
            ]
          },
          "metadata": {},
          "execution_count": 3
        }
      ]
    },
    {
      "cell_type": "code",
      "source": [
        "a = 11110.0\n",
        "type(a)"
      ],
      "metadata": {
        "colab": {
          "base_uri": "https://localhost:8080/"
        },
        "id": "UBqe-2rXybMF",
        "outputId": "ee3b4d7c-f151-4ae4-bef9-5aaafca571a1"
      },
      "execution_count": 4,
      "outputs": [
        {
          "output_type": "execute_result",
          "data": {
            "text/plain": [
              "float"
            ]
          },
          "metadata": {},
          "execution_count": 4
        }
      ]
    },
    {
      "cell_type": "code",
      "source": [
        "a = 10.0\n",
        "type(a)"
      ],
      "metadata": {
        "colab": {
          "base_uri": "https://localhost:8080/"
        },
        "id": "NDxaDtJJylDN",
        "outputId": "f65c0955-18a1-4a62-e547-e74ee1b695b3"
      },
      "execution_count": 5,
      "outputs": [
        {
          "output_type": "execute_result",
          "data": {
            "text/plain": [
              "float"
            ]
          },
          "metadata": {},
          "execution_count": 5
        }
      ]
    },
    {
      "cell_type": "code",
      "source": [
        "a = True\n",
        "type(a)"
      ],
      "metadata": {
        "colab": {
          "base_uri": "https://localhost:8080/"
        },
        "id": "kdyBtl_Jyl-1",
        "outputId": "15fcb91a-7754-45fe-ce15-3a79e52ae4a5"
      },
      "execution_count": 6,
      "outputs": [
        {
          "output_type": "execute_result",
          "data": {
            "text/plain": [
              "bool"
            ]
          },
          "metadata": {},
          "execution_count": 6
        }
      ]
    },
    {
      "cell_type": "code",
      "source": [
        "a = False\n",
        "type(a)"
      ],
      "metadata": {
        "colab": {
          "base_uri": "https://localhost:8080/"
        },
        "id": "UccKw_AJzVtN",
        "outputId": "ba0e27d9-efdf-4a30-fcfe-b33cc9c47be4"
      },
      "execution_count": 7,
      "outputs": [
        {
          "output_type": "execute_result",
          "data": {
            "text/plain": [
              "bool"
            ]
          },
          "metadata": {},
          "execution_count": 7
        }
      ]
    },
    {
      "cell_type": "markdown",
      "source": [
        "## Perform Arithmetic oprations"
      ],
      "metadata": {
        "id": "vX0dEAqnzcSS"
      }
    },
    {
      "cell_type": "code",
      "source": [
        "a = 10\n",
        "b = 20\n",
        "c = a+b\n",
        "print(c)"
      ],
      "metadata": {
        "colab": {
          "base_uri": "https://localhost:8080/"
        },
        "id": "vJBlvlvozYG4",
        "outputId": "431e9ce2-df70-4a0f-c7cd-6cf05d8ce9db"
      },
      "execution_count": 8,
      "outputs": [
        {
          "output_type": "stream",
          "name": "stdout",
          "text": [
            "30\n"
          ]
        }
      ]
    },
    {
      "cell_type": "code",
      "source": [
        "a = 10\n",
        "b = 20\n",
        "print(a + b)"
      ],
      "metadata": {
        "colab": {
          "base_uri": "https://localhost:8080/"
        },
        "id": "QCHfs8l8zk-0",
        "outputId": "226bcbd7-a876-4259-a7b9-fdbf4787f1f7"
      },
      "execution_count": 9,
      "outputs": [
        {
          "output_type": "stream",
          "name": "stdout",
          "text": [
            "30\n"
          ]
        }
      ]
    },
    {
      "cell_type": "code",
      "source": [
        "a = 10\n",
        "b = 20\n",
        "print(a - b)"
      ],
      "metadata": {
        "colab": {
          "base_uri": "https://localhost:8080/"
        },
        "id": "VYg0J-I6zq8T",
        "outputId": "8e6fd7e9-99e7-458f-fe00-9337db8d302c"
      },
      "execution_count": 10,
      "outputs": [
        {
          "output_type": "stream",
          "name": "stdout",
          "text": [
            "-10\n"
          ]
        }
      ]
    },
    {
      "cell_type": "code",
      "source": [
        "print(100-200)"
      ],
      "metadata": {
        "colab": {
          "base_uri": "https://localhost:8080/"
        },
        "id": "C6OKi4CkzzJB",
        "outputId": "ad22a2e4-a0ff-4f1b-9e59-617a0b3e5ace"
      },
      "execution_count": 11,
      "outputs": [
        {
          "output_type": "stream",
          "name": "stdout",
          "text": [
            "-100\n"
          ]
        }
      ]
    },
    {
      "cell_type": "code",
      "source": [
        "print(a)"
      ],
      "metadata": {
        "colab": {
          "base_uri": "https://localhost:8080/"
        },
        "id": "D3ssrlvVz2c_",
        "outputId": "5faaf8ef-95a6-4ac0-e7aa-0f02aa253460"
      },
      "execution_count": 12,
      "outputs": [
        {
          "output_type": "stream",
          "name": "stdout",
          "text": [
            "10\n"
          ]
        }
      ]
    },
    {
      "cell_type": "code",
      "source": [
        "print(b)"
      ],
      "metadata": {
        "colab": {
          "base_uri": "https://localhost:8080/"
        },
        "id": "peSIAE8Hz8xQ",
        "outputId": "247c92cf-455a-43ea-fc69-9b16c3c98188"
      },
      "execution_count": 13,
      "outputs": [
        {
          "output_type": "stream",
          "name": "stdout",
          "text": [
            "20\n"
          ]
        }
      ]
    },
    {
      "cell_type": "code",
      "source": [
        "print(a*b)"
      ],
      "metadata": {
        "colab": {
          "base_uri": "https://localhost:8080/"
        },
        "id": "RfKAXydZz9_O",
        "outputId": "1fdfeddb-d0d1-441d-cde1-96047518cf9b"
      },
      "execution_count": 14,
      "outputs": [
        {
          "output_type": "stream",
          "name": "stdout",
          "text": [
            "200\n"
          ]
        }
      ]
    },
    {
      "cell_type": "code",
      "source": [
        "a = 10\n",
        "b = 2\n",
        "print(a/b)"
      ],
      "metadata": {
        "colab": {
          "base_uri": "https://localhost:8080/"
        },
        "id": "32JY4vcYz_pE",
        "outputId": "2968ecf5-8de0-44e3-95ad-ae5113d739b2"
      },
      "execution_count": 15,
      "outputs": [
        {
          "output_type": "stream",
          "name": "stdout",
          "text": [
            "5.0\n"
          ]
        }
      ]
    },
    {
      "cell_type": "code",
      "source": [
        "a = 10\n",
        "b = 2\n",
        "print(a//b)"
      ],
      "metadata": {
        "colab": {
          "base_uri": "https://localhost:8080/"
        },
        "id": "QMSztl6r0D8o",
        "outputId": "5db33c29-f539-424c-a372-2af81639951f"
      },
      "execution_count": 16,
      "outputs": [
        {
          "output_type": "stream",
          "name": "stdout",
          "text": [
            "5\n"
          ]
        }
      ]
    },
    {
      "cell_type": "code",
      "source": [
        "a = 10\n",
        "b = 3\n",
        "print(a/b)"
      ],
      "metadata": {
        "colab": {
          "base_uri": "https://localhost:8080/"
        },
        "id": "BPbFoUne0Juz",
        "outputId": "4ea169b6-5c2d-41ae-8adb-0665cdc93358"
      },
      "execution_count": 17,
      "outputs": [
        {
          "output_type": "stream",
          "name": "stdout",
          "text": [
            "3.3333333333333335\n"
          ]
        }
      ]
    },
    {
      "cell_type": "code",
      "source": [
        "a = 10\n",
        "b = 3\n",
        "print(a//b)"
      ],
      "metadata": {
        "colab": {
          "base_uri": "https://localhost:8080/"
        },
        "id": "6zjDt--70Msu",
        "outputId": "b71a1e1c-2801-4d26-9529-b16b7b15807a"
      },
      "execution_count": 18,
      "outputs": [
        {
          "output_type": "stream",
          "name": "stdout",
          "text": [
            "3\n"
          ]
        }
      ]
    },
    {
      "cell_type": "code",
      "source": [
        "a = 10\n",
        "b = 3\n",
        "print(a%b)"
      ],
      "metadata": {
        "colab": {
          "base_uri": "https://localhost:8080/"
        },
        "id": "d0mH7N2P0O61",
        "outputId": "73375515-810a-4476-d280-19bbf4052df4"
      },
      "execution_count": 19,
      "outputs": [
        {
          "output_type": "stream",
          "name": "stdout",
          "text": [
            "1\n"
          ]
        }
      ]
    },
    {
      "cell_type": "markdown",
      "source": [
        "![image.png](data:image/png;base64,iVBORw0KGgoAAAANSUhEUgAAAu4AAAFeCAIAAABVXQ11AAAAAXNSR0IArs4c6QAAAERlWElmTU0AKgAAAAgAAYdpAAQAAAABAAAAGgAAAAAAA6ABAAMAAAABAAEAAKACAAQAAAABAAAC7qADAAQAAAABAAABXgAAAACCAtLxAABAAElEQVR4Ae2dCZhVxZn32aRbpGlwYVOWqCw6KioIJmRAUSEqgmYhmBgSE03E+cbETNT5JhO+PMw3kwmZGWYyzzcYjRlDTGBMjIpGBzOiaFBZGkVJlEUFlFVlXxoV+/tfXiiKc8+9ffv27e5T9/x47tPUqVPLW786y/+8VadO67q6ulb8gwAEIAABCEAAAmESaBOm2VgNAQhAAAIQgAAEMgSQMhwHEIAABCAAAQgETAApE3DnYToEIAABCEAAAkgZjgEIQAACEIAABAImgJQJuPMwHQIQgAAEIAABpAzHAAQgAAEIQAACARNAygTceZgOAQhAAAIQgABShmMAAhCAAAQgAIGACbQL2HZMhwAEIAABCJQdgQ9qP1j1P6s+2Pt+0S1r277t6aP6VXaqdCV8+P6He9/b6zZbtW3d8fjj2rRLljvjwAcH9m7dW1ldeUzlMUdMLSDUmtV+C6BEEghAAAIQgEAzEfif6U/96fFXP/jgw6LrO+aYdt0HdB3/g6sqOlaokNqdtb+6+f6tb29zBbZu3VppzrryzEHjzjnhY8db/Mp5K//wsxdG/sWfn/bxj7mUFnjlsT+++JuXRt92afczuvm71i5eN3/Gs0O+OOTMSwZY/KL7Fr/67Oqrvvup43t38VOq8BfuWzzq1otPObun4p+9c8Gr81aMue3SPhf01uaerXuW3v/Si79dplab8Z+8aXjPP+vhl5AnjJTJA4ddEIAABCAAgeYm8Pcf/6cDBz5qZK1t27a55u+uOvPSjMJ4+dHlD019LLbAimPbf/Yfx5t2+fdP37Xt7e3Hde4w+f6vdeh8rEu/4Y8bf3bDfR8dqOve98Sv3/9VF6+AZVFd3/rd5OOOP27XO7unj/2PVnWt+g0/7drpn/FT/mDEdHmbOlQd+50n//K9N7f+x7X31H1UZ8neXfPeL74xe9e2PX56lXnulWdf+d0xrVr70fHhZDmX4m0kFgIQgAAEIJAaAo3XMUKlQvbv3W/M3KcWO/eoPu3Cj9mvyymdtXf/vvcf+ptH9u/eL/1x8kEvyJ7texfc87wP+9mfPS8do5gBlx1yvbi9B94/oLDqOvBhRnsd+PCAytG/97NGx6RjFL931z793bdrn3SMAhUd2+tvza9fNB3Trn3bE/ueUFlVoUiVWfPIsjeXrFW43n/MlakXEQkgAAEIQAACLU9Ad/o+5/fWAM2pF/Rp277dB+9/sLbmred+sShbN+Sy9YxR/S/75sW2VxNTfvLFe+UR2bOn9u1XNsgxc9FNn3ztqZUfvn9g4a9reg3pNXBkP6VcPKtmxR9WKyDpM/zLw3KV3KB4TeWx9CefmRlCenPpW/qr1t3y0Dc6nthRYujFR15+9B/mSu7s3LKrkJKRMoVQIg0EIAABCECgxQhIvgy8uP+5Y8/e+u62FUtf/8F3/v2tNza0b3fMzf/3+s//6JrZf/Vb83k0yL62x7Q9sc/xkjLK9eEHGefK8Sd3GfyZ8xbOWvLRR3XP3fP8wBH99u/Z//TdC8zRMvxLw9q1L41mkOtFwkWaqe8FfVSvRJX+SpwdmqfcutV5486pOK5iy4otZ33qDO2q919pzKq3GhJAAAIQgAAEIFAEgQuvHXLapac+8JNHf3XXgx9sfb9D28ou7aoqqnqv27fxX//6rr+989ZPfGnofAmOhvzbu33fxuUb36xZp0ztO7TveUZ3yz36mxdvXrllTc26t1/btPShZVvXbN23u1a7zhpzxnnjz2lIDfnS6gWlz//zZ9q0ad3t9JOUrscZ3d5bt1WDXDNv+NUnvjSs/8X99GqV5hG7qcT5yjq4j7ky9SIiAQQgAAEIQKDFCMiH8cenXtvx/PautV1O7tCtS0V1Rdv2+juw6lTZ9PNp/6XxpgYZt2nF5p9O+M9Z33kgM0Wmdatx37u86qSOVkLrNq1H3jjcwr//16cWPbBUYSkPSRztalAt+ROfNqzvxw6bPXTC4DZtM4VLP/3me3Pu/ep9K5993VxB+Qtxe5EyDgUBCEAAAhCAQOII1Dz40sDz+km+RCxTTNfK4zMjTcdFd0VSRjZXP//m9u27NYqk+K6nntTt1IxrxP3rc34v+WC0qRnBGgNSYMTXPp6ZwtJk/zR89tWfXqe3mVSDrJKgmf2dB2Z+7ZeawVNgnUiZAkGRDAIQgAAEINACBDa+trnjCcfFvpPcrk27Cz8xZPe7R73GXK+J/T55ml5lsgK3vP7Of17/iy0rt/i55Kfp1LXKYk7oc/zQzw/29zZFWEvI6OXtz/5gvK06I5fMmuXrf/3XD9XuOvQSVv5KkTL5+bAXAhCAAAQg0MIENry6qceAo9amcwZNvGP8sZ0qu552lGfF7Y0NaIbKLQ9/444nv3npLRdp2Gjv3v1zp8/zU2p67/nXDLKYy2652K29++7qd7euO7LOnhJEVtlt2+7Qq0m73ztKXWVGsg7+02xfC8T+1eSYr95z3Q33Tuo7OLNunlapWfDzF2JTRiKRMhEgbEIAAhCAAASSRWDdS2/Z3d2ZpcGh/Qfe37B3y7fGf++RX/3++p99sc95vdxeC7Q7LCwi8baphYA/cd3Q40/JrMm74U+bImnaHv6mgQu89dLbd33l5/d85RdaO9gl/nB/ZgRK/yzZsdWV5uzZtn6bky/au3PzoXeqj+91aGXhg5kO/VHJvluo55ndx/7vMbbv5cf/qE8u+Iljw0iZWCxEQgACEIAABJJC4M1Fa4dOPDQ31mzSLFnNlTmny4CeHbo+Ouv33/3CD0bfNsq5Twq0e+fGnXqVSYkPHDikSPJk3PLGu5o6oxea9P0Bm5MrCbJvZya7Zg136NxBAblzNPlGAS2pt3h2jZWmwhfNOhS2WTgWb3/1SYSf3zTr7i/P1KcMIj4eJdAA00cHF9/zs2SHeRk7mwkxEIAABCAAgQQR2LNt74H9B7r166p5M75ZUjN6p0kxK5atXvLsMr3KtOLZzHJ2uf7puwT6FpLt3f3e3vn3Pmda5KRTT8yVxcW7Ea4Fv1i4a/OuLr26LP515v0m/Rv86XPd+00SK/P+4x1FPn3Pgg3LNnQ9o9vKp1dtWZdZvUYOm4EXZZbd8/+1rWh3cAJynYzZvnHHgJGnSwYt/M2hkuWL0rvifvrYMFImFguREIAABCAAgQQRWP38G6cO7RuRMmZfjw4naaTp1ZqVF553vi9lPtRnBI7+99r8VfodHZdZZnfkjZ+MRLZue3jQ5vA72JqZK5myfO6r+qTAi48vd+k1g1hvU7vNT375Qk0lVjIpktcWvqGf26VF9vRiudu0gObHXPiFC1741WIJGhXrlywRc9k3L4qkj908bGvsTiIhAAEIQAACEEgAgZceeaXXoFNiDWnTqo1W/tWudhXx7onuA7vlmm+rF5Qmzbi2/59nXoT2/530sYzm0HIvJ/Q68oHrT//dVRd+YYitAWOJ9cLRhB9dY19NOpS9daur/8+Vg8aeZR/ltsjjunT41F9dcsn/GnkozdH/jf7WxcMnDfPTa78GrfQiVbb0OTrroS2+jB2LhUgIQAACEIBAyxCYOnRabMV6u+fer//SvuzoJ9AU4CXvvvL1733pgzf2yx3idl31t5/SFwBsc+v6bdvWbVf4I3k/Ml9+bFVR1f6EU7rkWTBm42ubKjpUHN/7iJSxovTJp20bduhDktXdq/Q1bIvM/qs5Llvf3vbh/g87dDq2qluVG4HKTmkx+vaCFpLZ/c5ubXbuWX3KOSfXm8UVFa/g3G4CEIAABCAAAQgkgcCmlVt6ntkje+G43R/s6XVqz+GjL7jriz/PZae+r6Rfrr2x8T0GHvqaQWSvxn3sgwOR+MimPj5QoE/FMmrOslv/N1JUvZtImXoRkQACEIAABCDQ8gTeeOHN0y78WETK1FW2Ov2y0z5381Vz/2lerk9k7927b8uWQ4vgVVVVtW9/TPv27SsqKnI1aevWbZWVlR06HJsrQZ74DRs2duvWtW3bfOvHWHa92bRp06aTTz45T2kF7kLKFAiKZBCAAAQgAIGWJPDWy+uv/Jsxz9zzXN1HdZqwIg9N32F9Rnzl41tWvzvrWw+8t3ZrLuP++Kc/PfvsH9av33DCCcefeuqp+tvrlJMHDhyYK/2cOY8o2YgR0bnAudL78bP/6/7PT/hsIQLlkUceferpZ6Z877uyxy+hiDBSpghoZIEABCAAAQg0NwG9kr1l9Tuf++HVGoup6NB+/fIN65at/+dP/T9/MbpYmy4YMli/v/+Hf/zc5z7T7/TTf/8/Ty598aUFz73Qs0ePyy8f88wzf1i5alV1p05XXPGp4447NPdFU2qsKHlZnpz31P79+0eO+PPevXs9/PAjW7dtO/OMMyR05sx5dOvWrZ/4xMdXrFy5ffuOAx9+OGHC5/r06d2xY9WvZs2W++etdW+NGnVRz54nPzznEZVWWVExbtxY8wbJJbOkZunFF4149tlnr756/OIlNWvXrtu2dWv3Ht2vGnvlY4/99959+7QpkwpRRbzBFNvvREIAAhCAAAQSR+CXt9y/6tnXH/vhEz/72n362sCr81bUq2Ni23DKyadc98Vr5z7x+82btzw9f778KG3atnn+hYXZieVl+bMzz7jm6vFKrGGpc88dNOFzn124aJFSvrJ8+bhxV2ly7qaNm774hYkbN21ev2H9ypWr9+7d86c/vXruoHPOPPPMV17542OP/7d0kqpbv2HD/v3vWxVvvPFm167dLrvs0mf/8NyuXbvWv/1269atbrjhq2++ufbdd9+VG2nM6EtHjhzx69/8Ntuk7Bi8MtlMiIEABCAAAQgkkYBeX3pxzssFWtamTU5vRdeuJ8o7ohktu3fv0itNzz33QsfjOvbpnfnyUeSfdMbq1a+/886755x99vPPL5R8Oe/cQbZiTVVVp+OP7/Le1vdOOeUU1eU8OlZCdXVnjRxpjk7tvn29e/Vq3bq1/DSu8MVLluzZs+e+X85SxpqaFxVfXV2tNF27nrRv3z4ZpsQyTLLGZckTQMrkgcMuCEAAAhCAQHMT0JIqO9/ZrU8TNOafvtCkNWMiJbSR6+Pof1Ihitu9Z7eGkORxsZ1t27WT1FizZk3fvn2HXnDBqtWvS2e0a3dIMLQpYEqvynFVDR16wf2/fuB1+WHefNNVvmLFqr/69reOOabdiy8ue+mll3r27LF4cc2BDw+sWLHiM5++WsNPD/z2wa3vbZVjxmXJE2BdmTxw2AUBCEAAAhBobgJrXl73y2kP7n/vyFcbG2pBxQmVl3/p4vNHn2Mfd7Ts7723tUuXzvKC6IWmimPatz2mrd5UkltFumHDhg0dOhznpt9K1mjui3LpJSZ5R5RRY0bdu3c/5phjNCClF6Datm3XqVPVzp279FfZNWyklNu2bevUqdOOHTs7d67etm27StOEG7leVNqates0Uebx/577rW/+pQpRyUpWXd3JDFP4qaeeOq5jR83jOemkE+Xd+dd/+/cvT7pu7969hUyUUSFIGSPJXwhAAAIQgEBZENCSefoX9b+0WNOkhPRK1L7a2gsuGKLZx7F2LF36ol7/PvPMM2yvJiZfduklsSljI5EysViIhAAEIAABCEAgDAI55wSFYT5WQgACEIAABCCQbgJImXT3P62HAAQgAAEIBE4AKRN4B2I+BCAAAQhAIN0EkDLp7n9aDwEIQAACEAicAFIm8A7EfAhAAAIQgEC6CSBl0t3/tB4CEIAABCAQOAGkTOAdiPkQgAAEIACBdBNAyqS7/2k9BCAAAQhAIHACSJnAOxDzIQABCEAAAukmgJRJd//TeghAAAIQgEDgBJAygXcg5kMAAhCAAATSTQApk+7+p/UQgAAEIACBwAkgZQLvQMyHAAQgAAEIpJtAu3Q3n9ZDAAIZAsseXb7sd8tjWfQ5v1e3/l0HjuyXvddyae+YW0dl780Vs2nlliemz9PeSTMm5kpj8YWnzF9OcXuLa11xdZELAhBoDAGkTGPokRcCZUJg+8Yda2rWxTbG4rv37zpuyhX666fJk8tPFgnX7qrNVVfRKSMZS7JZXOtKUjWFQAACDSKAlGkQLhJDoMwJRDwltbv3r5i/Sv4JOUhmTp41Ydo1fQf3dgg696jWprwyLqaQQGVVpV9IIVlIAwEIQCAPAaRMHjjsgkDqCGSLDA0tjbxx+P23PSg1c//tD97y0E2VVRXGZdDYs/RrKCO5diKCqaElkB4CEICAT4Bpvz4NwhCAQAwBeV80uqQdtbv2z//pgpgUJYpS+Rp7KnD4SdKq8MSWUmNGeSy1ESUVmycNuyAAgQQSwCuTwE7BJAgkjoBcKXLAZGbCPvqKm+Q7/+4F+smRIy/La/NXyXMjuyf86JrsOcI/Hv8TCYVh1w5RXqmKmZNnK+WURbe7dmrvE/8yT4VYjBw/Y269pLpHJ5fADyyctWTh7BqnS5R40NizR94w3LmLlHjq0Gn6qyqUWPJLIslKkLWjbx0VmfQjkzQT2YkYSTe1wq+RMAQgkGQCeGWS3DvYBoEEERhw8CUmaQJ3y/eNk3wxJbF26Vt+vMJKb7Jj2MTBkV22qTJn3jTbdIykhn6VHSsfnvpY7EtVip87fZ4KtJk6EiXKLr2iqTzZhSulfirNilWCg0JqllM2ipF5klb6K/stWe3uWpW2GfdMNlBiIJBIAnhlEtktGAWB5BHoe/6hCb+6x0e8GmasXCOSFCueXuXcNhZvikRZJD5imzV3+pOSJkogX4hLk5Eyj0bfDz/oFlouzSGfjZumc1CLzNJfuYg0rcevQvYo2fiDo2OKV5q7rrtXOka+JbmILKU5k5RMZZoay0irybOci8gvkDAEIJBAAnhlEtgpmASBJBKw27wscyM7ESsHXZmZAqy9Ugz+LokbbQ6beEg6+LsUPigsMpJF4z5Ox2hT+sPftFwSKwpoLMnpGG1mNNC0zHhQtvSRl8XpGEtpGVc8s1qb+ie9IoNNG7kGKsAAk/HhLwSCIICUCaKbMBICARBwfhd/YEgDOqYVbHwquxlrlq5TpNSDZEdk74CLjlqXTwrJinIOFZdeeVVCtooaMOJ0l8YCEXlkw2FyODkd45KpOZG8bEIAAskkgJRJZr9gFQSSS6Cy46GXsbNNtNkw5oaxvSZrpGMiWsHltSkp3ft3czEuoIWGXVgBSyktInmU/TONIjXjZ6l3zRsrMzZZnyxp5ZdMGAIQSA4B5sokpy+wBAKJJiD1YPbF3vhtl/woNidXksK0hVbY0y4be2po8yKayWSKfDP2AlRsaZIm2e9PxaasNzJSe73pSQABCLQUAaRMS5GnXggERsAcGDI6eyTItUTyRXsleuSY0TCQZqJoKoxFujSRQEMVg0rzJ8pESos4ciJ7szcbWnt2CcRAAAItTgAp0+JdgAEQCIOAlnKRofX6POSAkZTRuJKkzCGXTN4Vgc3Hs2nl5mwKOzbu9CPNzaOBqshrSn6ahoZVu/SWU2l+9shYlb+LMAQgkCgCzJVJVHdgDAQSSkCvRtutfWiOtWGc3Ta916boFiJlbMaunDduAMsV5U8fVmSfwZmpM1ayS+MCGnXSr6H6w6zV1GMZ4IpSQJtmvB9JGAIQSCYBpEwy+wWrIJAUAhIHmv5i7znL0ZJndMksltfEBoDmTH1cgkDpzZuSpz32nrbW2/X1hGqMiBs3UKV1gf2UKllKS4m3bzg0QSdPXZFdek1JFqo0rW3j79JmpAp/L2EIQCBRBBhgSlR3YAwEWphAZEZt7a5aeUHMJgmUyNp3uWyVq8MJkUIm/ErKKL0q0vp1JoM04qNxH4mMiJoZN+VypdGuTdfdqynGNtNFeaW3JKGKWwxG69moTBWi8SybaiN/jIzJrj1Xe4mHAARalgBSpmX5UzsEkkUgIh3MOM2POWfsWfXOknEtUUoJC3k19NdGcNyu2ICSTbpzon182xbBUzJb+G7aJf/mZ5FjZtKMa+dMfUxSQyv5ul2Kl44pbiUY5dI3pPTRb7XdNV+Kyib9uCoIQAACiSXQuq6uLrHGYRgEINA8BOTV0OhMbF1yTsTGK9JyVVZVZmsISQ15dGJ3SeLYJN/skqUkbM06zcY15WTaIjulyndzWeRKyU5gGbVcjXSSb38um2WVZszY/F/JL7XI7Ixtgl8gYQhAoMUJIGVavAswAAIQgAAEIACB4gkw7bd4duSEAAQgAAEIQKDFCSBlWrwLMAACEIAABCAAgeIJIGWKZ0dOCEAAAhCAAARanABSpsW7AAMgAAEIQAACECieAFKmeHbkhAAEIAABCECgxQkgZVq8CzAAAgki8Nprr61fvz5BBmEKBCAAgfoIIGXqI8R+CKSJwA9/+MOHH344TS2mrRCAQPAEkDLBdyENgAAEIAABCKSZAFImzb1P2yEAAQhAAALBE0DKBN+FNAACEIAABCCQZgJImTT3Pm2HAAQgAAEIBE8AKRN8F9IACEAAAhCAQJoJIGXS3Pu0HQIQgAAEIBA8AaRM8F1IAyAAAQhAAAJpJoCUSXPv03YIQAACEIBA8ASQMsF3IQ2AAAQgAAEIpJkAUibNvU/bIQABCEAAAsETQMoE34U0AAIQgAAEIJBmAkiZNPc+bYcABCAAAQgETwApE3wX0gAIQAACEIBAmgkgZdLc+7QdAhCAAAQgEDwBpEzwXUgDIAABCEAAAmkmgJRJc+/TdghAAAIQgEDwBJAywXchDYAABCAAAQikmQBSJs29T9shAAEIQAACwRNAygTfhTQAAhCAAAQgkGYCSJk09z5thwAEIAABCARPACkTfBfSAAhAAAIQgECaCSBl0tz7tB0CEIAABCAQPAGkTPBdSAMgAAEIQAACaSaAlElz79N2CEAAAhCAQPAEkDLBdyENgAAEIAABCKSZAFImzb1P2yEAAQhAAALBE0DKBN+FNAACEIAABCCQZgJImTT3Pm2HAAQgAAEIBE8AKRN8F9IACEAAAhCAQJoJIGXS3Pu0HQIQgAAEIBA8AaRM8F1IAyAAAQhAAAJpJoCUSXPv03YIQAACEIBA8ASQMsF3IQ2AAAQgAAEIpJlAuzQ3nrZDIJbAmpp1MyfPjt1V9pFr97+196X33713dwJb2ndw70kzJibQMEyCAARalgBemZblT+0QgAAEIAABCDSKAFKmUfjIDAEINBuBTSs31+7a32zVUREEIBAKAQaYQukp7GwZAp17VHfuWd0ydbdErRUvV3Suru7bp3dLVB6tc/uGHds37nCx0jFzpz85fsoVLoYABCAAARFAynAYQCAfgUFjzxp54/B8Kcpr31PXzx10wVmTbm75KSmvzV81Z+pjPl3NlRlz6yV+DGEIQAACIoCU4TCAAAQSR2DZo8sfPlrHDLt2yJhbRyXOUAyCAAQSQAApk4BOwAQIQMAjkK1jNKgk95iXhCAEIACBIwSQMkdYEIIABFqcQETHVFZVTJpxbff+XVvcMAyAAAQSS4A3mBLbNRgGgdQRQMekrstpMARKQQApUwqKlAEBCDSawKaVW/z5MfhjGk2UAiCQFgJImbT0NO2EQJIJSMfMnDzLWYiOcSgIQAAC9RJAytSLiAQQgEDTEtCCMXrv2i1/h45pWtyUDoGyI4CUKbsupUEQCI2AdIy8Ms5qLR7DPF9HgwAEIFAvAd5gqhcRCSCQdAJaTW7zYSnQ5/xeWkouv8VaQlcL6a5d+paSdevfVSsaO+lwxx13VFVV5c9e2r0LZy2R/a5MLR7De9eOBgEIQKAQAkiZQiiRBgKJJvDM3QucV0NrE+eRMvro9xPT57nErlVSM8MmDtYydAMHDnSRzRCQqJr/0wWuooEj+8kGt0kAAhCAQCEEkDKFUCJNORDQ/bt2V60+qKTbdjm053Ab1K5saXJ451H/z50+Ty6Qo6IOb0hSaO+KZ1ZPmHaNpqocjm7y/+dMfdxNkVG/jCv2+0rmZ6qsqnTupSY3nQogAIHEEEDKtJp/9wL9YntET7dyv+tpNfvmZ7mUYNKMBnytprhcsbYRWQgB3SaXPfqK7tDyRvjp9fQ/YGS/MhjIkIi5/7YH/ablCkvE5NIxLosoadrKhB9d42KaNCB7/H5RvQ1VUVqHZsX8VWuWrnN6SAZLzQy68qxBY89uaGlN2lgKhwAEmo4AUiYfW11n9dO9UPMQy+C2l6+p5bhPt3m93+vf5FwrNTlDv4Wzl8gNEOhzfObI/F3mRh7bQNdSCyiNP46jSKnzARf1q+xYoRJ8p46wqOQ8Q1SRkovejJikcbEGdYSyq3N9y50lity0cp7aq86VZnXxBCAAgXIlgJQ50rNTFt1+ZKNVK10rdZWXH0W+a63cpbEJfxRfkyt18c321vglZIeLy5VdDjH1EtD97K7r7s2fTGl0O/z6fV9paD/mL7ZJ986cPFtSo6FVSLTpeHa5dIPXbd6cFjqMzVno9j7z0+eaQcpIajiTxF9mOAPqDSijOlcnZp6USiN/lTw9qJk8lNgFgfIgwMvYOftRF3p5Ym55+Bt2KdRMAv8RUNd6XXwb6qopLldOE9mRm0D2sIse+rPv0Lrh6Uaeu5gy2aOBGL8lo789yh98iYhySaX8KsEvqriwyvdHu8ZNubxB5cyd/mTEQokhda7fKCvwiX+Z16CSU5hYJNXjzdDpKWRLk5uNAF6Z+lHr+XXN1XfqnqdHW32h1zLo/NfrrDbN0MKK796/W/bFVAJIHh0/ZfbkRKVZW7OudnfmuTn/y7Ty/9trt5rEk/24KSM3rdzsylexcixJbwXkdai/PwpIoTu3f6tTp2g2q+kYIdKN0L+1Kxy5lxdQQ0hJMsen58AQh+zjQQeJL+nW1rzVeWwTTo7265I91jUFMlVb/O5TLr2/7TymUkh66nBFWeKGPnK47GUcEBn1QmSAUmeK5pC17Omg7tMl7uBsJ76FXsYHYImbhpSpH6hOb00h1CVSF1AnZRTWhUCXYE371d1Rbn8VpL3ZF02brqGrrbwCfi6rWHnvv/3ByJCBUmbP4ZCI8VdEVXYZFpkNIB0jS2SV7tyuWGmj7FtX/c0OOYXmgfrmOx1j0NRNulX7d3dpvlAQ6RKvDvVbp+VhIsePv1dhtc6PiWS3XZHITau2DPLzlDSsY97XIiNu+ESDilff+el133U6RvEKy3i//CZti29JQGHx8T935Sy3rtHe2EuZS1aqgCrSfC89leny6MqUjtHxHDkg3d5SBeyKPfrgZblUZVJOCxJAyhQEf8CI080frnMs+wlSykM3Qt0adQeNSBnpD10dVIfEUGxNNnVR2W0OptLo9Na9R+MjGttyWdylR7XbSW43MCWLveiYjlGxevdYThpXTkoC/t1OELK7TLT9AQ5dPbNdXMlkFTnAZKQkdX4pY268BjWniCyFly/vpkusrsnuHbc3NhDRqdlA5FfQ+eLyNmlbXC0BBdzFRM9CI28YrnNB54js1xVsxdOrbA6TCZ1stqVtZuaamTXxS8pGtZhJpa3OL83qlb/cjyQcLgGkTEF95662uiy6sJ9TL2xnluXwFi21vRaj26SuGn56C0vomD9AM09dgmETh9iURl1x7FIiMaQxEWXRA6h+rhzdw/TTLl27XXbt1VmqzViJ4/KWd8D3uEjMZTdWb+5kR5ZrjA1cutbFPu/GHtUuS2kDvs5oqEtGluzYuNO3J/uel6rO9VEUEtYFx2SKHsAmzbjWv26IpHxaeuiy5yslk6pQskKKLWEa30NTwmIpqrwJIGUa1r+Ru4LLrCcbSRlpDqkT//nepMw5Y+MHfe158aDj5MidVRcXzcrUruoenax8vQ2uknWh8XWMdmlTdwXdtpXA97Fndt3Q4CnJri1lEPAX+4l1SkWe1O1BsAwaHtuESGNj00Qis5+VIwmK3tSt1AlNHdJFSCgNCuR/mI60t7w7t6EdoYWhlUUXmVyr+NguPU3pmqPEjVxkSH2tOYWqsYiOjm2aHZluOmBsGossedV56mJXixNAypSmC+yirNNM2sVJGekMkyAuJlKZcilGueRckWfFPQApvZ9FK7wpWayzV5HKqwQRKZNrPCtiQLlu5r9u6m4qxenarmu3T9vFE2gKApob4YqVL9OFCw+40yQ2i864hbNr/F2aXeRvpjmsu7sd+XL92sUnloZ2KYEuLEqsLJZSm/rpzPKfE5Rdly+bdxJZzELx/icydJbpoqRHLAX8XBaeOnSaK1mlKW/EA61u1ciXPdSZzQeNzHxqwzb11yxURl0VtYq0CrFdqlHNcc+BVr7tMsvVovxXDFcFgcQSQMoU1DU6kSxdnvNfV0ydPP4Yk4XlsMlVh045zRvQndVOQp1yfc/PTIVxo9eW0c7J2HEBi3QnravIrhduk4Ag26O8ZJ8uiD4QTZ32Nwk3KQHNxnDl5zk1XJpCAu75W/4Y6Rhtuly61eWXPi5lGgJuDlnsc5FPwJ6RFKMsRbzLpqc4G8bSBdNGeHWN0uw0vacZGdXyK80V1uXXxryUQL0pl4w8PeplOcK3b9oZGZBSvLmUTJ1YSl1gldepmVwVER8uAaRMQX2nN4MsXR5ntdwqSqOzTndNnW8KHH4AyvfoqVkyOsNtZX3Lolw6RXUp0RLDKJKCuqeARHpAjBV8goxLpgB+pUmS0RyHdYbOkTwPBg2qTzdOu1dFcknHRO5zkQRp29TLXGpyRl7U9xkyS6POKuL9L+UyHeN7VnRV1AuY+qu5fZrGJ50hL449wjl/TK7uUBZllEka7XLC1NSSLp56J8P3qShel01dV11KvRuhi6oeGk3KmFdJfiBVhz8mF/Pg4pEyBXWZDfHoDHGnR3Y27ZX+0IkkF3r3/qPMJVPI9VoXXHOT6l6r95KUUeetylEVOuf1VyVL5cRO07FIJci2Jzvm+uuvX7x4cXZ8WcYsX35kICNXAys7VuafdZErI/HFEXBeAWU36V9cOYXkspNCJ07k7EjzWWCziGInwmcjVTKJksjEo+xk2TEmKyUvfC+IroSa5KQBHV3ZFF+vlnLFyga7GPo6Rnt1sdUu1aXrrS9ltEuLL/gXak09lJTRkaALbCSlq4VA6ASQMvX3oM4BG5Ko9+KrBDrr5ELXs6BJGY3R5qnA/ARuYT2dZnb+61FDjhkVZVJGo046FaVysv0HilT5SpCnFrfrjjvu2LVrl9skoEuhOOu50ziXKxA3f7zwBhZ+pym8TKX036OOHTBtUGn5E+u0jR3R4CzIz63xe+3SNzRrIpQublIYek7TFdIe3gqpy0Ykdenz1Yll1PVWUsaqc0VJuUb0ShMdzK5GAkkggJSpvxdsjTudIf5DRmw2nW9KphukNIrEh9LkVz/62I1SSvdETuzIMJYKUWmSU27SnNVeuMay9AMHDow1Ow2RtrKcnFh6yjQF6VotySgtqIc8F1NmgcilPPIyszVWB63f6gIf3P0shYT9qiP3m0Ky50ojVWTnppS9xoJ1XriUbkTDxaT5LCjiNfWGZhFw4x/7fNVncG8lUDdFrniud7IDNihWUVUROW1dSlWnn/O96cnQ7SKQHgJImZx9rdNDet+m5SqRJlVEbgmxOTVLX8+Cmj+vvbo7uhMsNrEki85PzczXGe6eOVTvooOvYLibqwJ6+NDNRoPNmqNqZSqZLf4rq1zK2FqItL5wHERSw+e6pLoY9XIZM4zcjSKqxSDYG7MOSCSLi29kwN2NCjmVCq9LqsgJI50XmlphQxJWgsJMOzMUuuDoocj1Qn7ClizyWJU/i/a6EdvYS58dV7Fj5blKNvmrTvT7NJJY+tUdAJFdbKaEAFLmSEfbRLAj24dDOid1KSzwVqenf0kZu1vkd8moeHlZ7PVCTbmXlLEVUOyxUpX6TiCNE8s5lLkMXX2nPXa4ZI1c+OFwK1P0v+6jgvbj8T9xbbZHydiLr0sTbiByN4qVMr6/RC2NZCl525vI6yM71YkaLtSkHL+ZGtjKHpwteaOSX6Ab1NOVJD8QJbDmuCwt2zoplTyWNN3h1LKtpvbCCSBl8rHS+aPp8ZFXo/NlOPiuoO6Uuozqb/6LhcrRZVcz7TMz1w5+rMCVrIyaquY/uUroKKU+8+s/VGUncyWkOSD4vo9BlzmfpJFRjDrXfzwt4we7yAOrP/fWHSf+LBZF5rltuCwNDfhusCKm71h1crqop1zVuZZK04OHTiuXTKOK9Z6MLnEZB3Qk6MjXCSK/bzYQXYV0GNi8MXMM6wIVOXiy4UREsEuvk8uFXS6b29ego8sOFWlr/9HOFUgAAkYAKRP9GkCBR4bOq1ynlv/tpEhp2bl0ZdG1Qz93W80+/60QpZQvwV3K3WRhvwrljSxU5e9NSVhXZP82ls08JRz8Zuq+5Z6zdScTIt/LaDEufSE3MJe48IAbelAWHcyFZ/RTSsfYsmYWqQM+smKbn5hwNgETebrayHnsT1ixgTn9leyTO9kuR9lvLfidaIVHRLAi7WDLfrFIh5kVW6+72jdbc250uNq7FH68whLHWmRBg1Z4piNkUrjZJoVtTmaTdVG2X37z7DajlArkT5navZHBkVxvk/oP92JV3j7qyOskmk2iO5nuW2q4JI7GN/2jJfsG5u9t2XBkUmekE51tkU4vWjm5AssmIGVv0/L07p6v+HU90eJ12iV9YPEK+09rxlB7fe+aRIZ+ETh2sCnePZ4pgQ42OZUV0LXLDIjkyrUp3SPbJIN8a61ATRZUFZoRnCsv8ekhgFcmPX2dlpZGLpS6Ves6GLmZuRu5QdHeSIIyg2Uq2d1aDj6Cz9PNLLuZum0kWcrIPPWUOtQsV0N0y/Q9TIrXvda5oCxZn8G9slua2hhJFls8V+JAE96lFezgF1UHVnAivhOTFAKuvHaEKLHBj6gZHWzqEUXKf6aAFa5NpVf3aXUZR95mAUuP6lDs3q9rpB8tmbLoXQfN05e1eg/DrNLEYZtlqJNdExldgYUHVKzaondINebljCw8OymTRgCvTNJ6BHsaS0CXTrt6uoJ0HXR3cUVKx+itMbdXgdhrqJ+gDMLjplyuy3e9DXGvyNWbsqUSRHRJ5H0ldbS627dNd9bI8eDvTWFYh4HUjB3zpgWlEvST2tCmgNg0GsVo0V6LUaTlMgXg0quQWCWhEXPz6KhMSywdI9lhjh/HXNMQrUCdkv7HuVwCC8geDSEppXmMVKA9iqhnVaDiI+kL2bSv1OloUWn+1LpC8pImgQRa19XVJdAsTIJAYwjooTxyP1NpGYnTs1qPgO7qbFXoUnjLQzf5F0Rd4NyEjORPtbFbhcOVx2DdTvzP7LksFhAfyR3dHiLxpdr0qeoWaNNLiyhcrbCP7Ph51X0ae7IP7vjxCrM4fQSI2xRJzUHRwi02dVcTbOUasbccJBpsPS1pCFM2lkvnjlwjyqhNOUjMA6qe1Wb2kROb2NVuAbNBXhaNC1tFqlozcmJn6+u8tqFDuXP8BSxcUToAYmeCm4WR+YWuNDmZ/NM/YiGbQRBAygTRTRjZYAJ6oNQTYSHZ/M+1WHr/pptHGRRSeDOkkbX2YojVpddDsm8qvhm6gutupLvX4et75ltIui3ZCIKfsuRht97BwefpiUWXr561r/zUW0L2+pP1ZiGBETAhkgaHJT1eBgSYK1MGnUgTYgjooV93aHksYvYdjtKjWMTjfXhPSP9LFuTXLpHG6NnXf86O7G2ezUa69HV/1WRPWyIyj8E6BrgT5+GTf5fODujlR8Te5BBAyiSnL7CkxATkUNG1eOHsmrU16+S19kvXvV+LGXKl9pk0Q1jjEdYRNkLRmBqlxvo+dJPmftpX5f2iVIs8TIwa+EwIQ6C8CSBlyrt/0946OWY0xGAUbAw+dig97Ziaq/2aD+E0pYa3GuRMyrZRbgOtjGKLo0gbmaenkWVm10IMBCCQfAJImeT3ERaWhoBNUSxNWZRSFAHNKl12OKPm95RQdkiz6ne4bP6HAATSRYCXsdPV37QWAi1IQG+duNr9qcoukgAEIACBIgggZYqARhYIQKAYAnKMubdeNcAUeSu+mBLJAwEIQKBVK6QMRwEEINB8BDQh11Wmd8JdmAAEIACBogkgZYpGR0YIQKDBBHwpo1XzG5yfDBCAAASyCCBlspAQAQEINBkBvUTtxpj0NlPj38puMkspGAIQCIYAUiaYrsJQCJQHAfv8jbUl/xqG5dFeWgEBCDQ1AaRMUxOmfAhA4CgCwyYOdtv6BAGOGUeDAAQgUBwBpExx3MgFAQgUSUALwPjrLOOYKZIj2SAAgcMEkDKHSfA/BCDQXAT01QhXFY4Zh4IABCBQHAGkTHHcyAUBCBRPIPMNrLFH1MycqY8XXxY5IQCB1BNAyqT+EAAABFqCgD726arVcnmvscaMw0EAAhBoIAGkTAOBkRwCECgFAc2YsS9BWmFzpj7G4r+l4EoZEEgjAaRMGnudNkMgCQRG3jDcfQNSOkZqJglWYQMEIBAcAaRMcF2GwU1OwP/SobvXNnmtzV6B3oLWyI5+Wqqu2SvPVKi18kZ/e5SrWmNMmgLsNglAAAIQKJBAuwLTkQwC6SHgfxuoW/+uZdZwaZdFs2vWLD3qa45SFfqkgOavNLN00+K/+rmJMnOnPyng+upkmTGnORCAQJMSwCvTpHgpPDwC8lU4L4Xu62V2W507fd7MybMlHSITU7Qpj8hd193b/H6RcVOucPrJhpkitoV3DGExBCDQvASQMs3Lm9oST8B/MXjARUc+45x4w+s38OGpjy2cle8LjtIQSuN8JPWXWIoUcghN+NE1riTpSCbNOBoEIACBQgggZQqhRJq0EJBPQuMvrrX+EvsuMtCAmlagx6X5XyaS62vMraMcWGkpKSq3SQACEIBAfgLMlcnPh70pIiB/gOZquAbrVWE38OEiww1Evg8g9TD61lFaqk4tUsOfmD7PaTj5ZhbOXuKv+9IMrRbtTau2OLGlQN/zj1pGrxlsoAoIQCBQAnhlAu04zC4xAd3IZ06e5WZpSMToVeES19Fyxal1/lcbNaYzaca1pmNklGTNpBkT/VlBkjLNb+z4KVf4Nsgx45RN8xtDjRCAQEAEkDIBdRamNgkByRebDOt0jKrR7A3d75ukvpYo1H+9XPUPGnt2duuGTRziTBMK56Rxkc0QkMBCzTQDZ6qAQJkRQMqUWYfSnAYQODiiNO/HV98ZmQwbcQ80oMSkJvVdMrJxwIjTsy3Vy9h+ZET9+LuaLmxTgH2ZhW+m6WhTMgTKhgBzZcqmK2lIoQTkg9m8ckus1yFzK512jRt5KbTExKfbsXFnvTb6AkKJhajeLE2RQEN78s34g302Bdj//GRT1EuZEIBAuATwyoTbd1heJIFcOkYK5uv3faX8dExxmGp37y8uY+NzHZy7c60vrfDNNJ4qJUCgjAkgZcq4c2laoQQkXzTvVb9yemXJb3x1j07+ZuzgUcRNtWnlZj9LM4dj1UzkJaxmNonqIACBxBJggCmxXYNhTUtAqqVzz2rNGtE6eOWqYBzB7v26LnMbrVrpzaDsd631NQMvSSt/ErQf32xhUzP+SJOkjCb9aCZTs9lARRCAQBAEWtfV1QVhKEZCAAJFE5AC+PH4n/jZNfVkzK2X2CDOwXe4nsx+83nKotv9LC0S1tRsX81IgWWLsBYxjEohAIHkEEDKJKcvsAQCTUggdrqJTQzSWFKsDyYJUkZEZJvUjDSN5BcumSY8RCgaAsESQMoE23UYDoGGEJAg0GvnsZIlVzEJkTIyT2ZrIWZ0TK6eIh4CKSfAtN+UHwA0Py0ENJYUWYAu0nJ5aPzl6RI1f0jGo2Mi/cUmBCDgCCBlHAoCEChzAlIqettcc00iMkWbitQLXBrEcQg0J9qFCUAAAhBIMgHeYEpy72AbBEpPwGbOasjGXreWZIkoG6sy8v526e2gRAhAAAIlIoCUKRFIioFAUAQ0ZBNZDDCyroze3w6qQRgLAQiklwBSJr19T8vTQ8D5YKzJlVWV/rQYi1z2u+U+kD6De/ubhCEAAQgklgBSJrFdg2EQKCWBmZNnu+Lkkrn9yW+6TQU0S8ZfV0ZCJ1vr+OkJQwACEEgOAab9JqcvsAQCTUVA2sWXJnLSaJkZ/bX6NLR0/20P+nUPmzjE3yQMAQhAIMkEWFcmyb2DbRAoGQE5XewT036Jmi5Tu6vWf3FJeyV69KKTn4wwBCAAgSQTQMokuXewDQKlJBC74G+kAvlvpGNi32mKpGQTAhCAQEIIIGUS0hGYAYHmIDB3+ryFs5bkqkn+mHFTrvCHonKlJB4CEIBAcgggZZLTF1gCgeYgoJkxellpxfxVbq6MapV80fwYfeSoOSygDghAAAIlJYCUKSlOCoNAOATsDe3YF7PDaQSWQgACEGiFlOEggAAEIAABCEAgYAK8jB1w52E6BCAAAQhAAAJIGY4BCEAAAhCAAAQCJoCUCbjzMB0CEIAABCAAAaQMxwAEIAABCEAAAgETQMoE3HmYDgEIQAACEIAAUoZjAAIQgAAEIACBgAkgZQLuPEyHAAQgAAEIQAApwzEAAQhAAAIQgEDABJAyAXcepkMAAhCAAAQggJThGIAABCAAAQhAIGACSJmAOw/TIQABCEAAAhBAynAMQAACEIAABCAQMAGkTMCdh+kQgAAEIAABCCBlOAYgAAEIQAACEAiYAFIm4M7DdAhAAAIQgAAEkDIcAxCAAAQgAAEIBEwAKRNw52E6BCAAAQhAAAJIGY4BCEAAAhCAAAQCJoCUCbjzMB0CEIAABCAAAaQMxwAEIAABCEAAAgETQMoE3HmYDgEIQAACEIAAUoZjAAIQgAAEIACBgAkgZQLuPEyHAAQgAAEIQAApwzEAAQhAAAIQgEDABJAyAXcepkMAAhCAAAQggJThGIAABCAAAQhAIGACSJmAOw/TIQABCEAAAhBAynAMQAACEIAABCAQMAGkTMCdh+kQgAAEIAABCCBlOAYgAAEIQAACEAiYAFIm4M7DdAhAAAIQgAAE2oEAAuVHYOrQadaoSTMm9h3c22/gzMmz19Ss82NG3jhcPz9m/t0L9PNjVIiK8mNUiIryYxSesuj2SIyzxMVjUnIoZVviuokABCAQEAG8MgF1FqZCAAIQgAAEIBAlgFcmSoTtMiDgvCyde1ZHmjPoyrP6nN/Lj4xsapdiXAmWsnOPaDkqOZLGL9OFs9NgkoPjAgmk5GwjAAEIJJ9A67q6uuRbiYUQgAAEIAABCEAglgADTLFYiIQABCAAAQhAIAwCSJkw+gkrIQABCEAAAhCIJYCUicVCJAQgAAEIQAACYRBAyoTRT1gJAQhAAAIQgEAsAaRMLBYiIQABCEAAAhAIgwBSJox+wkoIQAACEIAABGIJIGVisRAJAQhAAAIQgEAYBJAyYfQTVkIAAhCAAAQgEEsAKROLhUgIQAACEIAABMIggJQJo5+wEgIQgAAEIACBWAJImVgsREIAAhCAAAQgEAYBpEwY/YSVEIAABCAAAQjEEkDKxGIhEgIQgAAEIACBMAggZcLoJ6yEAAQgAAEIQCCWAFImFguREIAABCAAAQiEQQApE0Y/YSUEIAABCEAAArEEkDKxWIiEAAQgAAEIQCAMAkiZMPoJKyEAAQhAAAIQiCWAlInFQiQEIAABCEAAAmEQQMqE0U9YCQEIQAACEIBALAGkTCwWIiEAAQhAAAIQCIMAUiaMfsJKCEAAAhCAAARiCSBlYrEQCQEIQAACEIBAGASQMmH0E1ZCAAIQgAAEIBBLACkTi4VICEAAAhCAAATCIICUCaOfsBICEIAABCAAgVgCSJlYLERCAAIQgAAEIBAGgXZhmImVEIAABCDQ9ASWPbp8+8YdsfVUdqzo1r9r38G9Y/cmKtJa0ef8XiW0tinKTBS0oI1BygTdfRgPgUYRWDhrydzp86wIXfQnzZjYqOLIHD6BZb9bvqZmXf52jLxxuH7507TsXmuFjCyllDlIprRltiylcqodKVNOvUlbINAwAmuXvtWwDKROB4HOPaoHjT0r0tba3ftXPL1KPpv5dy/Q3/FTrogkYBMCLUUAKdNS5KkXAi1M4LX5q/RrYSOoPpEEOvesjvW7jLl11MNTH9NQi35KIMWTSPNb4V9MZr80nVVM+206tpQMgYQSqN21X0NL99/2YELtw6wEE3ASRx6aBJuJaekigFcmXf1Na1NLQBMgbDhp88ota5auk5pJLQoa3hgCzhOj8Sa/HB1R83+6wEagFN+9f9dBV5417NohfhpNzNLhN/rWUZVVFRqlWjF/lXLZYJYpJLkJn7l7waaVW5Rr4Mh+I24crnL8EhSWCl/xzGqb0KNy+p7fe+jEwZE5MVaRDLBhsowb6XfLbVP12gReqyI7r+JlwMLZS7LNi1him7JHhZvNasuAi/qNvGG4DPMTz5w8W5vyFdnwnEoeNnGIE4V+SsLFEUDKFMeNXBAIjIB0jC7igRmNuckj4ESw0zSyUTfymZNnuV0Ws2nlPN3jJ8241t3XMzK6Zp3+zp3+pEtsd3dlUUAiw7VYskaaW9l9NXPXdfeaaLBkKsTGSTVxx5/cYxXpDSZLppJVr16/Wnh0dss74UfXSDa5epXSlIfLa3ODXAIXUO1qtW+PKsoom0dfiZhtwiubkiuKQCMJIGUaCZDsEIAABFJEQO4Ka22fwYeEgt3R9VeaY9yUK0x5SCXMmfqYbt5y1WiGjQ9IOkabclGYK8Um35jOlhwZc+slkj7SBDNvmp1RBrOXuPnFUgkqUHsnTLvG8iqBeVlU5oCR/Zxm8qtzYSkMGSljzFekvBpjVYFP/Ms8J2WU4P7bMwOvihn97VEm11Sve9HPlaaAUpo9arWVoE1rtf5+/b6v+IkVVqT+ygCJKs1GiuxlszEEmCvTGHrkhQAEIFCGBGp31cqREPlJnUh2mObw5/xKbZiO0c3beVB0a5dnQmikA7TXZ6RN7XJDQm6cRTFSLSZHpCGGTRysXBqLcXk1rqSwtI7Lq2QmdFTmppWbXcrYgNI4HaMEyquhLgWkaSRBLIvJHe2Sq0Z/LVLSxxlpMfprcGStWu2UkJqvpimjChQul9gCqkiJVZrsd4VH0rBZHAG8MsVxIxcEAiOga3Hkcqxrse9ID6w9mNuUBHQnznNs+IJAVtiokOa1RCzSfV33bB1mkiP+6I8ineJRFndT11wWvwS5LrTpyyAl0JiRvC9+sgaFI3N3nCSSdLNyTC351lq8YkzDueo0dqbwoLFnO/ttl8SNJVarncSxXZpDE0nsSiPQSAJImUYCJDsEyo3A4oP/yq1VtCeOwM033xwX3Ur34+79u0V26X5v3guNtlRWVdr9XlJDzgaljNy2La+Uh6SMJXCluSksLsYC1T06RWIim77CULHaqxlgmhYTSZZr0wmXXAkUb8VmWygJop/fEKt3wIjTs0uz7Ds27ozsMnEWiWSzJASQMiXBSCEQKB8C69dvkJgpn/bQkoYTkI6JXZpF93JNvJV8kYvChIUb1pk6dFquekq4EqPNjPElhQ1I5aq6hPGa3eLXa6ouj+/KVFEJDaCoPASQMnngsAsCaSRw9dXj9Utjy2lzfQTkmdBUFc2Y0U1dgsaXEXl8HqXyRmiWrk1A0fhUZpLv4W9C5VFR9TWosftliRxUjS2F/I0mgJRpNEIKgAAEIJAaAm4YSP4YyRd3I4/14pSQiptI608uLmH5VpRaJG9K9tiQ9rr5NJZSMk5iThOH82i4kptHgbkI8AZTLjLEQwACEIBAPQQOuiUyy8Flv7CjSM0I1pBQSYZa7FUm6QZ/yrCqkJ6ox8SG7DYHktaziWSSF8pGlFy8luZT2KYJu0gLqL02EBaJZ7PpCCBlmo4tJUMAAhAofwL2StGi2TWRpurer+VedFN3nptIggZtajhJ6bdvyEwx9v/ZKjV+TGPC9ga4FFhEuGjtmUix1mp7edvfJWn1xPR5anXEi+OnIVxyAgwwlRwpBUIAAhAoWwLZbzZp9oxcJnJFaEaw1uO3EShN9bX1WDAYkgAABrBJREFUZjQ7OOJHKQ6NPgigN6fkHdGMGX1tQIVoGCijGHbX2rtFkQ8pFFeLitIL21oLR8v4ql1qi4p9+dHl8jlF3mBSu/Q+tlr946vv1FvW5s4xk2Skmqz3tIuzgVxFEEDKFAGNLBCAAARSSsBN9ZUbxqaJKEbrwtnKuZoR7HPR/d6t1evHFxE+OON4lNSMVIUbzLKq9dkmkziyp/FTdqRLdmzYoSr8tqghMkDKybdciw5rwV+pmchawNIxAuJA+VkINxGBtt///vebqGiKhQAEkkxAV39b5suM1Lumul4n2WBsax4CuhNrIkgeV4rGek45u2fHE47TMWODRwrLCXFi3xNat2rV8cSOipcT5ZK/GHHh0Z+TlP0qVsuuKEGkLVIh+h01FNVay9tUWrwlVqWZJVtatzq2qlLlDP70ueOnXKmiTvv4qbu37lGkVnlRGkscqUjJcjUqUnW7inZ/NvoMCRdpEato+JcvtOUlVYhvvFLqlJE/RgGlzOwd3OvCiUOu/OvRiqm/gZEUbDaCQOu6urpGZCcrBCAQKgE9TfqrYuiC3vgn2lBZYDcEIBAyAab9htx72A4BCEAAAhBIPQGkTOoPAQBAAAIQgAAEQiaAlAm597AdAhCAAAQgkHoCSJnUHwIAgAAEIAABCIRMACkTcu9hOwQgAAEIQCD1BJAyqT8EAAABCEAAAhAImQBSJuTew3YIQAACEIBA6gmwrkzqDwEAQAACEIAABEImgFcm5N7DdghAAAIQgEDqCSBlUn8IAAACEIAABCAQMgGkTMi9h+0QgAAEIACB1BNAyqT+EAAABCAAAQhAIGQCSJmQew/bIQABCEAAAqkngJRJ/SEAAAhAAAIQgEDIBJAyIfcetkMAAhCAAARSTwApk/pDAAAQgAAEIACBkAkgZULuPWyHAAQgAAEIpJ4AUib1hwAAIAABCEAAAiETQMqE3HvYDgEIQAACEEg9AaRM6g8BAEAAAhCAAARCJoCUCbn3sB0CEIAABCCQegJImdQfAgCAAAQgAAEIhEwAKRNy72E7BCAAAQhAIPUEkDKpPwQAAAEIQAACEAiZAFIm5N7DdghAAAIQgEDqCSBlUn8IAAACEIAABCAQMoF2IRuP7RCIJzB16DTbMWnGxL6De/uJZk6evaZmnR8z8sbh+vkx8+9eoJ8fo0JUlB+jQlSUH6PwlEW3R2KcJS4ek5JDKdsS100EIACBgAjglQmoszAVAhCAAAQgAIEoAbwyUSJslwEB52Xp3LM60pxBV57V5/xefmRkU7sU40qwlJ17RMtRyZE0fpkunJ0GkxwcF0ggJWcbAQhAIPkEWtfV1SXfSiyEAAQgAAEIQAACsQQYYIrFQiQEIAABCEAAAmEQQMqE0U9YCQEIQAACEIBALAGkTCwWIiEAAQhAAAIQCIMAUiaMfsJKCEAAAhCAAARiCSBlYrEQCQEIQAACEIBAGASQMmH0E1ZCAAIQgAAEIBBLACkTi4VICEAAAhCAAATCIICUCaOfsBICEIAABCAAgVgCSJlYLERCAAIQgAAEIBAGAaRMGP2ElRCAAAQgAAEIxBJAysRiIRICEIAABCAAgTAIIGXC6CeshAAEIAABCEAglgBSJhYLkRCAAAQgAAEIhEEAKRNGP2ElBCAAAQhAAAKxBJAysViIhAAEIAABCEAgDAJImTD6CSshAAEIQAACEIglgJSJxUIkBCAAAQhAAAJhEEDKhNFPWAkBCEAAAhCAQCwBpEwsFiIhAAEIQAACEAiDAFImjH7CSghAAAIQgAAEYgkgZWKxEAkBCEAAAhCAQBgEkDJh9BNWQgACEIAABCAQSwApE4uFSAhAAAIQgAAEwiCAlAmjn7ASAhCAAAQgAIFYAkiZWCxEQgACEIAABCAQBgGkTBj9hJUQgAAEIAABCMQSQMrEYiESAhCAAAQgAIEwCCBlwugnrIQABCAAAQhAIJYAUiYWC5EQgAAEIAABCIRBACkTRj9hJQQgAAEIQAACsQSQMrFYiIQABCAAAQhAIAwCSJkw+gkrIQABCEAAAhCIJYCUicVCJAQgAAEIQAACYRBAyoTRT1gJAQhAAAIQgEAsAaRMLBYiIQABCEAAAhAIgwBSJox+wkoIQAACEIAABGIJIGVisRAJAQhAAAIQgEAYBJAyYfQTVkIAAhCAAAQgEEsAKROLhUgIQAACEIAABMIggJQJo5+wEgIQgAAEIACBWAJImVgsREIAAhCAAAQgEAYBpEwY/YSVEIAABCAAAQjEEkDKxGIhEgIQgAAEIACBMAj8fzIqBc3f0tleAAAAAElFTkSuQmCC)"
      ],
      "metadata": {
        "id": "XS__dKVb0blZ"
      }
    },
    {
      "cell_type": "code",
      "source": [
        "a = 11\n",
        "b = 3\n",
        "print(a%b)"
      ],
      "metadata": {
        "colab": {
          "base_uri": "https://localhost:8080/"
        },
        "id": "Ox_GgkVX0aIe",
        "outputId": "5125bf21-2188-478e-c6b3-5109888e31f5"
      },
      "execution_count": 20,
      "outputs": [
        {
          "output_type": "stream",
          "name": "stdout",
          "text": [
            "2\n"
          ]
        }
      ]
    },
    {
      "cell_type": "code",
      "source": [
        "a = 12\n",
        "b = 3\n",
        "print(a%b)"
      ],
      "metadata": {
        "colab": {
          "base_uri": "https://localhost:8080/"
        },
        "id": "bxfT50u20iWg",
        "outputId": "54ec9e2e-9d35-416c-ee1b-f3a75cfecc06"
      },
      "execution_count": 21,
      "outputs": [
        {
          "output_type": "stream",
          "name": "stdout",
          "text": [
            "0\n"
          ]
        }
      ]
    },
    {
      "cell_type": "code",
      "source": [
        "a = 3\n",
        "print(a**2)"
      ],
      "metadata": {
        "colab": {
          "base_uri": "https://localhost:8080/"
        },
        "id": "GyZXMMt91pcc",
        "outputId": "3e93eca3-861e-481f-cf8e-e6e66595ea25"
      },
      "execution_count": 31,
      "outputs": [
        {
          "output_type": "stream",
          "name": "stdout",
          "text": [
            "9\n"
          ]
        }
      ]
    },
    {
      "cell_type": "code",
      "source": [
        "a = 3\n",
        "print(a**3)"
      ],
      "metadata": {
        "colab": {
          "base_uri": "https://localhost:8080/"
        },
        "id": "GJ3WP8tl1pZR",
        "outputId": "e4c88ac2-99ff-4c39-d4a6-b780ba1ada76"
      },
      "execution_count": 32,
      "outputs": [
        {
          "output_type": "stream",
          "name": "stdout",
          "text": [
            "27\n"
          ]
        }
      ]
    },
    {
      "cell_type": "code",
      "source": [
        "print(2**3)"
      ],
      "metadata": {
        "id": "53QtJL6k1y4X"
      },
      "execution_count": null,
      "outputs": []
    },
    {
      "cell_type": "markdown",
      "source": [
        "## Let's Know a bout Variable?"
      ],
      "metadata": {
        "id": "h9Iwcyfb0of9"
      }
    },
    {
      "cell_type": "code",
      "source": [
        "a = 10\n",
        "A = 20\n",
        "print(a)"
      ],
      "metadata": {
        "colab": {
          "base_uri": "https://localhost:8080/"
        },
        "id": "QQVeSCQw0ork",
        "outputId": "02afc115-8c15-4ed9-e0e1-bca2243957d7"
      },
      "execution_count": 23,
      "outputs": [
        {
          "output_type": "stream",
          "name": "stdout",
          "text": [
            "10\n"
          ]
        }
      ]
    },
    {
      "cell_type": "code",
      "source": [
        "print(A)"
      ],
      "metadata": {
        "colab": {
          "base_uri": "https://localhost:8080/"
        },
        "id": "yOy0CbWc0ssh",
        "outputId": "fbeb797b-a424-41f1-ef98-a5906666ec48"
      },
      "execution_count": 24,
      "outputs": [
        {
          "output_type": "stream",
          "name": "stdout",
          "text": [
            "20\n"
          ]
        }
      ]
    },
    {
      "cell_type": "code",
      "source": [
        "rahul = 100\n",
        "Rahul = 200\n",
        "print(rahul)"
      ],
      "metadata": {
        "colab": {
          "base_uri": "https://localhost:8080/"
        },
        "id": "lZqJ6n0X0vZf",
        "outputId": "4ad43147-92dd-4960-895c-22b8f78b65de"
      },
      "execution_count": 25,
      "outputs": [
        {
          "output_type": "stream",
          "name": "stdout",
          "text": [
            "100\n"
          ]
        }
      ]
    },
    {
      "cell_type": "code",
      "source": [
        "print(Rahul)"
      ],
      "metadata": {
        "colab": {
          "base_uri": "https://localhost:8080/"
        },
        "id": "JVBNvLDW04oD",
        "outputId": "cc4331fd-f793-4ea1-f291-41a22d01c8be"
      },
      "execution_count": 26,
      "outputs": [
        {
          "output_type": "stream",
          "name": "stdout",
          "text": [
            "200\n"
          ]
        }
      ]
    },
    {
      "cell_type": "code",
      "source": [
        "_rahul_singh = 10\n",
        "print(_rahul_singh)"
      ],
      "metadata": {
        "colab": {
          "base_uri": "https://localhost:8080/"
        },
        "id": "m3ik7hLo06Ja",
        "outputId": "84f0d179-91ab-4036-ffc7-ab50c58674fb"
      },
      "execution_count": 27,
      "outputs": [
        {
          "output_type": "stream",
          "name": "stdout",
          "text": [
            "10\n"
          ]
        }
      ]
    },
    {
      "cell_type": "code",
      "source": [
        "_rahul_singh_ = 10\n",
        "print(_rahul_singh_)"
      ],
      "metadata": {
        "colab": {
          "base_uri": "https://localhost:8080/"
        },
        "id": "jZZan4Cj1DqQ",
        "outputId": "7d967f00-aabf-473c-cdd2-a1054d39c252"
      },
      "execution_count": 28,
      "outputs": [
        {
          "output_type": "stream",
          "name": "stdout",
          "text": [
            "10\n"
          ]
        }
      ]
    },
    {
      "cell_type": "code",
      "source": [
        "a1 = 10\n",
        "print(a1)"
      ],
      "metadata": {
        "colab": {
          "base_uri": "https://localhost:8080/"
        },
        "id": "A46QyYEq1FOw",
        "outputId": "8b07a393-0384-4848-b065-408b313ad380"
      },
      "execution_count": 29,
      "outputs": [
        {
          "output_type": "stream",
          "name": "stdout",
          "text": [
            "10\n"
          ]
        }
      ]
    },
    {
      "cell_type": "code",
      "source": [
        "1a1 = 10\n",
        "print(1a1)"
      ],
      "metadata": {
        "colab": {
          "base_uri": "https://localhost:8080/",
          "height": 106
        },
        "id": "2ov1kPUY1I1A",
        "outputId": "5a074be5-f143-4783-dcd6-704b9245a4b0"
      },
      "execution_count": 30,
      "outputs": [
        {
          "output_type": "error",
          "ename": "SyntaxError",
          "evalue": "invalid decimal literal (ipython-input-30-740863778.py, line 1)",
          "traceback": [
            "\u001b[0;36m  File \u001b[0;32m\"/tmp/ipython-input-30-740863778.py\"\u001b[0;36m, line \u001b[0;32m1\u001b[0m\n\u001b[0;31m    1a1 = 10\u001b[0m\n\u001b[0m    ^\u001b[0m\n\u001b[0;31mSyntaxError\u001b[0m\u001b[0;31m:\u001b[0m invalid decimal literal\n"
          ]
        }
      ]
    },
    {
      "cell_type": "code",
      "source": [
        "#~!@$%^&*()-++=|}{[]\\\":;'?><,./`~\"}"
      ],
      "metadata": {
        "id": "btt86Iy51Kfn"
      },
      "execution_count": null,
      "outputs": []
    },
    {
      "cell_type": "code",
      "source": [
        "_,num"
      ],
      "metadata": {
        "id": "YR3IJm_V1ZX9"
      },
      "execution_count": null,
      "outputs": []
    },
    {
      "cell_type": "markdown",
      "source": [
        "## Comparison Operators\n",
        "\n",
        "Equal to ==\n",
        "\n",
        "Not equal to !=\n",
        "\n",
        "Greater than >\n",
        "\n",
        "Less than <\n",
        "\n",
        "Greater than or equal to >=\n",
        "\n",
        "Less than or equal to <=\n",
        "\n"
      ],
      "metadata": {
        "id": "GgjXH_ec18yy"
      }
    },
    {
      "cell_type": "code",
      "source": [
        "a = 10\n",
        "b = 20\n",
        "print(a == b)"
      ],
      "metadata": {
        "colab": {
          "base_uri": "https://localhost:8080/"
        },
        "id": "dqQz4G1I1cyu",
        "outputId": "322c4347-2bfe-443b-c06e-91338cdee4da"
      },
      "execution_count": 33,
      "outputs": [
        {
          "output_type": "stream",
          "name": "stdout",
          "text": [
            "False\n"
          ]
        }
      ]
    },
    {
      "cell_type": "code",
      "source": [
        "print(a != b)"
      ],
      "metadata": {
        "colab": {
          "base_uri": "https://localhost:8080/"
        },
        "id": "VZPZE6Al1cvo",
        "outputId": "af67874a-3441-42b1-a042-1526bd9d5eab"
      },
      "execution_count": 34,
      "outputs": [
        {
          "output_type": "stream",
          "name": "stdout",
          "text": [
            "True\n"
          ]
        }
      ]
    },
    {
      "cell_type": "code",
      "source": [
        "print(a > b)"
      ],
      "metadata": {
        "colab": {
          "base_uri": "https://localhost:8080/"
        },
        "id": "PEOADFqt2QcO",
        "outputId": "a0eee96f-871f-454b-a6b8-b348f687cf69"
      },
      "execution_count": 35,
      "outputs": [
        {
          "output_type": "stream",
          "name": "stdout",
          "text": [
            "False\n"
          ]
        }
      ]
    },
    {
      "cell_type": "code",
      "source": [
        "print(a >= b)"
      ],
      "metadata": {
        "colab": {
          "base_uri": "https://localhost:8080/"
        },
        "id": "ie1SSdGZ2YYh",
        "outputId": "6fe5bdf7-e0e3-48d2-ed74-c3f929f706d6"
      },
      "execution_count": 37,
      "outputs": [
        {
          "output_type": "stream",
          "name": "stdout",
          "text": [
            "False\n"
          ]
        }
      ]
    },
    {
      "cell_type": "code",
      "source": [
        "print(a < b)"
      ],
      "metadata": {
        "colab": {
          "base_uri": "https://localhost:8080/"
        },
        "id": "mRAi8H0N2Upw",
        "outputId": "c505d57e-2a54-49f2-b713-730c84266f3f"
      },
      "execution_count": 36,
      "outputs": [
        {
          "output_type": "stream",
          "name": "stdout",
          "text": [
            "True\n"
          ]
        }
      ]
    },
    {
      "cell_type": "code",
      "source": [
        "print(a <= b)"
      ],
      "metadata": {
        "colab": {
          "base_uri": "https://localhost:8080/"
        },
        "id": "uMOkKgMC2fJk",
        "outputId": "f94edda0-bafd-430b-bbdd-1a374e555854"
      },
      "execution_count": 38,
      "outputs": [
        {
          "output_type": "stream",
          "name": "stdout",
          "text": [
            "True\n"
          ]
        }
      ]
    }
  ]
}
